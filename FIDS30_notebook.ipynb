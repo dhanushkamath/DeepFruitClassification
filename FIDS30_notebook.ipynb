{
 "cells": [
  {
   "cell_type": "code",
   "execution_count": 1,
   "metadata": {
    "collapsed": true
   },
   "outputs": [],
   "source": [
    "import tensorflow as tf\n",
    "import inception\n",
    "import numpy as np\n",
    "import os\n",
    "import inception\n",
    "from glob import glob\n",
    "from random import shuffle\n",
    "from tqdm import tqdm\n",
    "import tflearn\n",
    "from tflearn.layers.core import input_data, dropout, fully_connected\n",
    "from tflearn.layers.estimator import regression\n",
    "import cv2\n",
    "\n",
    "\n",
    "# Transfer Learning with the pre-trained inception model\n",
    "\n",
    "# Initialize the inception model and required initializations\n",
    "inc_model = inception.Inception()\n",
    "TRAIN_DIR = 'FIDS30'\n",
    "MODEL_NAME = 'FIDS30_2'\n",
    "LR = 1e-4\n",
    "\n",
    "# Define a function for obtaining transfer values\n",
    "def transfer_values(image_path):\n",
    "    t_vals = inc_model.transfer_values(image_path)\n",
    "    return t_vals\n",
    "\n",
    "def create_train_data():\n",
    "    training_data = []\n",
    "    for label_p in tqdm(glob(TRAIN_DIR+'/*')):\n",
    "        onehot_label = label_image(label_p.split('/')[-1])\n",
    "        for img_p in tqdm(glob(label_p+'/*')):\n",
    "            tr_val = transfer_values(image_path = img_p)\n",
    "            training_data.append([np.array(onehot_label), np.array(tr_val)])\n",
    "    shuffle(training_data)\n",
    "    np.save('FIDS30_savedmodel/saved_np/FIDS30_9classes.npy',training_data)\n",
    "    return\n",
    "\n",
    "def label_image(label): # Returns the training label\n",
    "    options = { 'apples':      [1, 0, 0, 0, 0, 0, 0, 0, 0],\n",
    "                'bananas':     [0, 1, 0, 0, 0, 0, 0, 0, 0],\n",
    "                'coconuts':    [0, 0, 1, 0, 0, 0, 0, 0, 0],\n",
    "                'grapes':      [0, 0, 0, 1, 0, 0, 0, 0, 0],\n",
    "                'guava':       [0, 0, 0, 0, 1, 0, 0, 0, 0],\n",
    "                'mangos':      [0, 0, 0, 0, 0, 1, 0, 0, 0],\n",
    "                'pineapples':  [0, 0, 0, 0, 0, 0, 1, 0, 0],\n",
    "                'pomegranates':[0, 0, 0, 0, 0, 0, 0, 1, 0],\n",
    "                'tomatoes':    [1, 0, 0, 0, 0, 0, 0, 0, 1],}\n",
    "\n",
    "    return options[label]\n",
    "\n",
    "\n",
    "def load_train_data():\n",
    "    if glob(\"FIDS30_savedmodel/saved_np/FIDS30_9classes.npy\"):\n",
    "        train = np.load(\"FIDS30_savedmodel/saved_np/FIDS30_9classes.npy\")\n",
    "        print(\"Numpy file of training data exists and has been loaded\")\n",
    "    else:\n",
    "        print(\"ERROR : No saved trainin data. Please run the function create_train_data()\")\n",
    "        exit()\n",
    "    Y = np.array([i[0] for i in train])\n",
    "    X = np.array([i[1] for i in train])\n",
    "    return X,Y\n",
    "\n",
    "\n",
    "# ======================================================================================================================\n",
    "# The Fully Connected Layer (To be connected after the inception model)\n",
    "# This will only have one fully connected layer and a softmax classifier\n",
    "\n",
    "num_classes = 9\n",
    "len_transfer = 2048\n",
    "\n",
    "#Here transfer_layer is the input layer of the new network\n",
    "transfer_layer = input_data(shape=[None,2048], name='input')\n",
    "\n",
    "transfer_layer = fully_connected(transfer_layer, 1024, activation='relu')\n",
    "transfer_layer = dropout(transfer_layer, 0.6)\n",
    "\n",
    "transfer_layer = fully_connected(transfer_layer,num_classes,activation = 'softmax')\n",
    "transfer_layer = regression(transfer_layer, optimizer='adam', learning_rate=LR,\n",
    "                            loss='categorical_crossentropy', name='targets')\n",
    "\n",
    "model = tflearn.DNN(transfer_layer,tensorboard_verbose=3)\n",
    "\n",
    "# ======================================================================================================================\n",
    "\n",
    "def train_the_network():\n",
    "    X, Y = load_train_data()\n",
    "\n",
    "    #model.fit({'input': X}, {'targets': Y}, n_epoch=4,\n",
    "              #snapshot_step=500, show_metric=True, run_id='MODEL_NAME')\n",
    "    model.fit(X, Y, n_epoch=10000, batch_size=512, show_metric=True)\n",
    "\n",
    "    model.save('FIDS30_savedmodel/'+MODEL_NAME)\n",
    "\n",
    "    return\n",
    "\n",
    "def test_model(image_path):\n",
    "    options_num = { 0 : 'apples',\n",
    "                    1 : 'bananas',\n",
    "                    2 : 'coconuts',\n",
    "                    3 : 'grapes',\n",
    "                    4 : 'guava',\n",
    "                    5 : 'mangos',\n",
    "                    6 : 'pineapples',\n",
    "                    7 : 'pomegranates',\n",
    "                    8 : 'tomatoes',}\n",
    "    \n",
    "    model.load('FIDS30_savedmodel/'+MODEL_NAME)\n",
    "    tr_val = transfer_values(image_path)\n",
    "    tr_val = tr_val.reshape(-1,2048)\n",
    "    pred = model.predict(tr_val)\n",
    "    img = cv2.imread(image_path)\n",
    "    print(options_num[np.argmax(pred)])\n",
    "    cv2.imshow(\"Image\",img)\n",
    "    cv2.waitKey(0)\n",
    "    cv2.destroyAllWindows()\n",
    "    return pred"
   ]
  },
  {
   "cell_type": "code",
   "execution_count": 59,
   "metadata": {},
   "outputs": [
    {
     "name": "stdout",
     "output_type": "stream",
     "text": [
      "INFO:tensorflow:Restoring parameters from /home/dhanush/Desktop/Internship Projects/Deep Learning Fruit Classification/TensorFlow-Tutorials/FIDS30_savedmodel/FIDS30_2\n"
     ]
    },
    {
     "name": "stdout",
     "output_type": "stream",
     "text": [
      "mangos\n"
     ]
    }
   ],
   "source": [
    "pred = test_model(\"test_data/mango1.jpg\")"
   ]
  },
  {
   "cell_type": "code",
   "execution_count": 60,
   "metadata": {},
   "outputs": [
    {
     "data": {
      "text/plain": [
       "[0.12443344295024872,\n 0.05848510563373566,\n 0.018933037295937538,\n 0.03868943080306053,\n 0.02011050283908844,\n 0.6382641196250916,\n 0.022739024832844734,\n 0.016123175621032715,\n 0.06222204864025116]"
      ]
     },
     "execution_count": 60,
     "metadata": {},
     "output_type": "execute_result"
    }
   ],
   "source": [
    "pred[0]"
   ]
  },
  {
   "cell_type": "code",
   "execution_count": 51,
   "metadata": {},
   "outputs": [],
   "source": [
    ""
   ]
  },
  {
   "cell_type": "code",
   "execution_count": 74,
   "metadata": {},
   "outputs": [],
   "source": [
    "labels =      [ 'apples',\n",
    "                'bananas',\n",
    "                'coconuts',\n",
    "                'grapes',\n",
    "                'guava',\n",
    "                'mangos',\n",
    "                'pineapples',\n",
    "                'pomegranates',\n",
    "                'tomatoes',]"
   ]
  },
  {
   "cell_type": "code",
   "execution_count": 75,
   "metadata": {},
   "outputs": [],
   "source": [
    "pred_val, lab_s = zip(*sorted(zip(pred[0], labels)))"
   ]
  },
  {
   "cell_type": "code",
   "execution_count": 77,
   "metadata": {},
   "outputs": [
    {
     "data": {
      "text/plain": [
       "('pomegranates',\n 'coconuts',\n 'guava',\n 'pineapples',\n 'grapes',\n 'bananas',\n 'tomatoes',\n 'apples',\n 'mangos')"
      ]
     },
     "execution_count": 77,
     "metadata": {},
     "output_type": "execute_result"
    }
   ],
   "source": [
    "lab_s"
   ]
  },
  {
   "cell_type": "code",
   "execution_count": 81,
   "metadata": {},
   "outputs": [
    {
     "name": "stdout",
     "output_type": "stream",
     "text": [
      "mangos : 0.6382641196250916\napples : 0.12443344295024872\ntomatoes : 0.06222204864025116\nbananas : 0.05848510563373566\ngrapes : 0.03868943080306053\npineapples : 0.022739024832844734\nguava : 0.02011050283908844\ncoconuts : 0.018933037295937538\npomegranates : 0.016123175621032715\n"
     ]
    }
   ],
   "source": [
    "for i in range(num_classes-1,-1,-1):\n",
    "    print(str(lab_s[i])+' : '+str(pred_val[i]))"
   ]
  }
 ],
 "metadata": {
  "kernelspec": {
   "display_name": "Python 2",
   "language": "python",
   "name": "python2"
  },
  "language_info": {
   "codemirror_mode": {
    "name": "ipython",
    "version": 2.0
   },
   "file_extension": ".py",
   "mimetype": "text/x-python",
   "name": "python",
   "nbconvert_exporter": "python",
   "pygments_lexer": "ipython2",
   "version": "2.7.6"
  }
 },
 "nbformat": 4,
 "nbformat_minor": 0
}